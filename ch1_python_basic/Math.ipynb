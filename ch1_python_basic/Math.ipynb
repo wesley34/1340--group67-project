{
  "nbformat": 4,
  "nbformat_minor": 0,
  "metadata": {
    "colab": {
      "name": "Math",
      "provenance": [],
      "authorship_tag": "ABX9TyPq7Vw1n5+YsKHRZ1y+6DmL",
      "include_colab_link": true
    },
    "kernelspec": {
      "name": "python3",
      "display_name": "Python 3"
    }
  },
  "cells": [
    {
      "cell_type": "markdown",
      "metadata": {
        "id": "view-in-github",
        "colab_type": "text"
      },
      "source": [
        "<a href=\"https://colab.research.google.com/github/wesley34/1340--group67-project/blob/master/ch1_python_basic/Math.ipynb\" target=\"_parent\"><img src=\"https://colab.research.google.com/assets/colab-badge.svg\" alt=\"Open In Colab\"/></a>"
      ]
    },
    {
      "cell_type": "markdown",
      "metadata": {
        "id": "pVDczhWJmkXr",
        "colab_type": "text"
      },
      "source": [
        "# You may skip it, it is a reference for you to check your understanding"
      ]
    },
    {
      "cell_type": "markdown",
      "metadata": {
        "id": "_4JOcts-gcyT",
        "colab_type": "text"
      },
      "source": [
        "# Number manipulation in python"
      ]
    },
    {
      "cell_type": "markdown",
      "metadata": {
        "id": "_aUmm4-EgjWZ",
        "colab_type": "text"
      },
      "source": [
        "# You will learn the ways to manipulate the numbers in this following sections\n",
        "\n",
        "\n",
        "\n",
        "*   Understand the concept is good enough to move on to next section\n",
        "*   No Exercise on this section\n",
        "\n",
        "\n",
        "# Check List\n",
        "1.   Base\n",
        "2.   Casting\n",
        "3.   Up-Casting\n",
        "4.   Native Libaray\n"
      ]
    },
    {
      "cell_type": "markdown",
      "metadata": {
        "id": "55aTnJFIhn2v",
        "colab_type": "text"
      },
      "source": [
        "## Base"
      ]
    },
    {
      "cell_type": "code",
      "metadata": {
        "id": "oyL86LJVg0eD",
        "colab_type": "code",
        "colab": {
          "base_uri": "https://localhost:8080/",
          "height": 90
        },
        "outputId": "fe9b8879-b38b-4808-ea2c-1bfbd42cd3a0"
      },
      "source": [
        "# base 10\n",
        "print(20)\n",
        "# base 2 Binary -> result in base 10\n",
        "print(0b11)\n",
        "# base 8 Octal -> result in base 10\n",
        "print(0o20)\n",
        "# base heXadecimal -> result in base 10\n",
        "print(0x20)"
      ],
      "execution_count": null,
      "outputs": [
        {
          "output_type": "stream",
          "text": [
            "20\n",
            "3\n",
            "16\n",
            "32\n"
          ],
          "name": "stdout"
        }
      ]
    },
    {
      "cell_type": "markdown",
      "metadata": {
        "id": "n_CFQzHbhp-K",
        "colab_type": "text"
      },
      "source": [
        "## Casting"
      ]
    },
    {
      "cell_type": "code",
      "metadata": {
        "id": "bPuEV5kfhJZH",
        "colab_type": "code",
        "colab": {
          "base_uri": "https://localhost:8080/",
          "height": 90
        },
        "outputId": "889cce4b-a70e-46b9-bae5-6749fb486b82"
      },
      "source": [
        "print(int(20))\n",
        "print(bin(20))\n",
        "print(oct(20))\n",
        "print(hex(20))"
      ],
      "execution_count": null,
      "outputs": [
        {
          "output_type": "stream",
          "text": [
            "20\n",
            "0b10100\n",
            "0o24\n",
            "0x14\n"
          ],
          "name": "stdout"
        }
      ]
    },
    {
      "cell_type": "code",
      "metadata": {
        "id": "eHFAQOX0hVzy",
        "colab_type": "code",
        "colab": {
          "base_uri": "https://localhost:8080/",
          "height": 35
        },
        "outputId": "4f6e6e81-e58d-4bcd-f98c-a5d850211ab3"
      },
      "source": [
        "# applicable on str type\n",
        "print(int(\"20\"))\n",
        "#print(bin(\"20\")) #cannot work\n",
        "#print(oct(\"20\")) #cannot work\n",
        "#print(hex(\"20\")) #cannot work"
      ],
      "execution_count": null,
      "outputs": [
        {
          "output_type": "stream",
          "text": [
            "20\n"
          ],
          "name": "stdout"
        }
      ]
    },
    {
      "cell_type": "code",
      "metadata": {
        "id": "zQO0LHQeiD-J",
        "colab_type": "code",
        "colab": {
          "base_uri": "https://localhost:8080/",
          "height": 163
        },
        "outputId": "f6ebe72d-96da-4dba-bcbd-bbbf13de9eca"
      },
      "source": [
        "# int over bool\n",
        "print(int(True))\n",
        "print(int(False))\n",
        "print(bin(True))\n",
        "print(bin(False))\n",
        "print(int(True))\n",
        "print(int(False))\n",
        "print(hex(True))\n",
        "print(hex(False))"
      ],
      "execution_count": null,
      "outputs": [
        {
          "output_type": "stream",
          "text": [
            "1\n",
            "0\n",
            "0b1\n",
            "0b0\n",
            "1\n",
            "0\n",
            "0x1\n",
            "0x0\n"
          ],
          "name": "stdout"
        }
      ]
    },
    {
      "cell_type": "code",
      "metadata": {
        "id": "3BgzTEGRiH4I",
        "colab_type": "code",
        "colab": {
          "base_uri": "https://localhost:8080/",
          "height": 54
        },
        "outputId": "248d55f6-f850-412a-b611-90a3c653c43c"
      },
      "source": [
        "# adding int with true false\n",
        "print(10+True)\n",
        "print(20+False)"
      ],
      "execution_count": null,
      "outputs": [
        {
          "output_type": "stream",
          "text": [
            "11\n",
            "20\n"
          ],
          "name": "stdout"
        }
      ]
    },
    {
      "cell_type": "code",
      "metadata": {
        "id": "VJkna_ocii4l",
        "colab_type": "code",
        "colab": {
          "base_uri": "https://localhost:8080/",
          "height": 90
        },
        "outputId": "566c29ec-ee1d-494f-fa12-4b1b7ad99ad8"
      },
      "source": [
        "# type \n",
        "print(type(1))\n",
        "print(type(0b1))\n",
        "print(type(0o1))\n",
        "print(type(0x1))"
      ],
      "execution_count": null,
      "outputs": [
        {
          "output_type": "stream",
          "text": [
            "<class 'int'>\n",
            "<class 'int'>\n",
            "<class 'int'>\n",
            "<class 'int'>\n"
          ],
          "name": "stdout"
        }
      ]
    },
    {
      "cell_type": "markdown",
      "metadata": {
        "id": "vy51gUlHj19E",
        "colab_type": "text"
      },
      "source": [
        "## UP casting"
      ]
    },
    {
      "cell_type": "code",
      "metadata": {
        "id": "hxHW2Msbj5TD",
        "colab_type": "code",
        "colab": {
          "base_uri": "https://localhost:8080/",
          "height": 35
        },
        "outputId": "fe3df019-be47-4d50-8ca9-6a7e195e62fd"
      },
      "source": [
        "10 / 2 # int / int -> float (upcast)"
      ],
      "execution_count": null,
      "outputs": [
        {
          "output_type": "execute_result",
          "data": {
            "text/plain": [
              "5.0"
            ]
          },
          "metadata": {
            "tags": []
          },
          "execution_count": 21
        }
      ]
    },
    {
      "cell_type": "code",
      "metadata": {
        "id": "-B0ijzb8j7HU",
        "colab_type": "code",
        "colab": {
          "base_uri": "https://localhost:8080/",
          "height": 35
        },
        "outputId": "2ff7901b-e050-4d06-d185-f14bdf799df3"
      },
      "source": [
        "10 // 2 # int // int -> int # unchange"
      ],
      "execution_count": null,
      "outputs": [
        {
          "output_type": "execute_result",
          "data": {
            "text/plain": [
              "5"
            ]
          },
          "metadata": {
            "tags": []
          },
          "execution_count": 23
        }
      ]
    },
    {
      "cell_type": "code",
      "metadata": {
        "id": "fAzhlmBdkBel",
        "colab_type": "code",
        "colab": {
          "base_uri": "https://localhost:8080/",
          "height": 35
        },
        "outputId": "a88e7c7d-9db3-4b89-bcb7-4332993c30f7"
      },
      "source": [
        "10.5 // 2.5 # float // float -> float # unchange"
      ],
      "execution_count": null,
      "outputs": [
        {
          "output_type": "execute_result",
          "data": {
            "text/plain": [
              "float"
            ]
          },
          "metadata": {
            "tags": []
          },
          "execution_count": 25
        }
      ]
    },
    {
      "cell_type": "code",
      "metadata": {
        "id": "wPbrOub7kVaf",
        "colab_type": "code",
        "colab": {
          "base_uri": "https://localhost:8080/",
          "height": 35
        },
        "outputId": "2a626111-ec86-492d-b3b7-0edfce5aac11"
      },
      "source": [
        "10.0 + 5 # float + int -> flaot (upcast)"
      ],
      "execution_count": null,
      "outputs": [
        {
          "output_type": "execute_result",
          "data": {
            "text/plain": [
              "15.0"
            ]
          },
          "metadata": {
            "tags": []
          },
          "execution_count": 29
        }
      ]
    },
    {
      "cell_type": "code",
      "metadata": {
        "id": "wlgfn7J7kbsp",
        "colab_type": "code",
        "colab": {
          "base_uri": "https://localhost:8080/",
          "height": 35
        },
        "outputId": "7af0b45b-e753-48b7-cd18-180528bf41ce"
      },
      "source": [
        "3 + 2j # int + complex -> complex (upcast)"
      ],
      "execution_count": null,
      "outputs": [
        {
          "output_type": "execute_result",
          "data": {
            "text/plain": [
              "(3+2j)"
            ]
          },
          "metadata": {
            "tags": []
          },
          "execution_count": 31
        }
      ]
    },
    {
      "cell_type": "code",
      "metadata": {
        "id": "d6XIOhcbk7Ij",
        "colab_type": "code",
        "colab": {
          "base_uri": "https://localhost:8080/",
          "height": 35
        },
        "outputId": "881c8726-ffcd-47bf-a52b-7bfb3e4a1e12"
      },
      "source": [
        "3.0 + 2j # float+complex -> complex (upcast)"
      ],
      "execution_count": null,
      "outputs": [
        {
          "output_type": "execute_result",
          "data": {
            "text/plain": [
              "(3+2j)"
            ]
          },
          "metadata": {
            "tags": []
          },
          "execution_count": 32
        }
      ]
    },
    {
      "cell_type": "markdown",
      "metadata": {
        "id": "koN_r0kDkVy8",
        "colab_type": "text"
      },
      "source": [
        "# Math Libaray\n",
        "## You shall memorize some important function\n",
        "## It is common to forget the functions\n",
        "## You shall memorize the methods rather than python code\n",
        "1.   math (https://docs.python.org/3/library/math.html)\n",
        "2.   numpy (we will not discuss it in this chapter)\n",
        "\n"
      ]
    },
    {
      "cell_type": "code",
      "metadata": {
        "id": "-9zuptcOmgE5",
        "colab_type": "code",
        "colab": {}
      },
      "source": [
        ""
      ],
      "execution_count": null,
      "outputs": []
    }
  ]
}